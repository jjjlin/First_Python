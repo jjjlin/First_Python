{
 "cells": [
  {
   "cell_type": "code",
   "execution_count": 1,
   "metadata": {},
   "outputs": [
    {
     "name": "stdout",
     "output_type": "stream",
     "text": [
      "是否要開始對戰？ 0. 來打R   1. 滾吧1\n",
      "沒得打拉\n"
     ]
    }
   ],
   "source": [
    "import random\n",
    "command = int(input('是否要開始對戰？ 0. 來打R   1. 滾吧'))\n",
    "c_choice = random.randint(0, 1)\n",
    " \n",
    "if command == 0:\n",
    "  choice = int(input('選一隻神奇寶貝 0. 固拉多 1. 烈空座'))\n",
    "  \n",
    "  if choice == 0:\n",
    "    print('你選擇了帝王龍')\n",
    "    if c_choice == 0:\n",
    "      print('平手拉')\n",
    "      print(c_choice)\n",
    "    if c_choice == 1:\n",
    "      print('被打爆惹')\n",
    "      print(c_choice)\n",
    "    \n",
    "      \n",
    "  elif choice == 1:\n",
    "    print('你選擇了天王龍')\n",
    "    if c_choice == 0:\n",
    "      print('吊起來打')\n",
    "    if c_choice == 1:\n",
    "      print('平手')\n",
    "\n",
    "elif command == 1:\n",
    "  print('沒得打拉')"
   ]
  },
  {
   "cell_type": "code",
   "execution_count": null,
   "metadata": {
    "collapsed": true
   },
   "outputs": [],
   "source": []
  }
 ],
 "metadata": {
  "kernelspec": {
   "display_name": "Python 3",
   "language": "python",
   "name": "python3"
  },
  "language_info": {
   "codemirror_mode": {
    "name": "ipython",
    "version": 3
   },
   "file_extension": ".py",
   "mimetype": "text/x-python",
   "name": "python",
   "nbconvert_exporter": "python",
   "pygments_lexer": "ipython3",
   "version": "3.6.1"
  }
 },
 "nbformat": 4,
 "nbformat_minor": 2
}
